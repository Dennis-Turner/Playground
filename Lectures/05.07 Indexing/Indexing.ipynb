{
 "cells": [
  {
   "cell_type": "code",
   "execution_count": 4,
   "metadata": {
    "collapsed": true
   },
   "outputs": [],
   "source": [
    "import pandas as pd\n",
    "from pandas import Series, DataFrame\n",
    "import numpy as np\n",
    "\n",
    "a = np.arange(0, 50, 5)\n",
    "#a"
   ]
  },
  {
   "cell_type": "code",
   "execution_count": null,
   "metadata": {
    "collapsed": true
   },
   "outputs": [],
   "source": [
    "#retrieve a single elment from a using a numeric index:\n",
    "#a[3]\n",
    "#a[7]"
   ]
  },
  {
   "cell_type": "code",
   "execution_count": null,
   "metadata": {
    "collapsed": true
   },
   "outputs": [],
   "source": [
    "#Multiple elements? slice\n",
    "#a[3:7]"
   ]
  },
  {
   "cell_type": "code",
   "execution_count": null,
   "metadata": {
    "collapsed": true
   },
   "outputs": [],
   "source": [
    "#Multiple elements from indexes that cannot be expressed using a slice? fancy indexing.\n",
    "#a[[2,3,5,7]]"
   ]
  },
  {
   "cell_type": "code",
   "execution_count": null,
   "metadata": {
    "collapsed": true
   },
   "outputs": [],
   "source": [
    "#We could also use a NumPy array to do this, instead of a list:\n",
    "#indexes = np.array([2,3,5,7])\n",
    "#a[indexes]"
   ]
  },
  {
   "cell_type": "code",
   "execution_count": null,
   "metadata": {
    "collapsed": true
   },
   "outputs": [],
   "source": [
    "#Here's the cool thing, though: \n",
    "#We pass a sequence of integers\n",
    "#Also we can pass a sequence of boolean values.\n",
    "#This is known as a boolean index.\n",
    "#a[[True, True, True, False, False, False, True, True, True, False]]"
   ]
  },
  {
   "cell_type": "code",
   "execution_count": null,
   "metadata": {
    "collapsed": true
   },
   "outputs": [],
   "source": [
    "#using a variable\n",
    "#b = [True, True, True, False, False, False, True, True, True, False]\n",
    "#a[b]"
   ]
  },
  {
   "cell_type": "code",
   "execution_count": 5,
   "metadata": {},
   "outputs": [
    {
     "data": {
      "text/plain": [
       "array([ 0,  5, 10, 15, 20, 25, 30, 35, 40, 45])"
      ]
     },
     "execution_count": 5,
     "metadata": {},
     "output_type": "execute_result"
    }
   ],
   "source": [
    "#And with a Pandas series:\n",
    "#s = Series(a)\n",
    "#s[[True, True, True, False, False, False, True, True, True, False]]b"
   ]
  },
  {
   "cell_type": "code",
   "execution_count": null,
   "metadata": {
    "collapsed": true
   },
   "outputs": [],
   "source": [
    "#Boolean values as an index on a NumPy array. True values are returned, False values are ignored.\n",
    "\n",
    "#Operations on NumPy arrays are vectorized:\n",
    "#a = np.arange(0, 50, 5) "
   ]
  },
  {
   "cell_type": "code",
   "execution_count": 6,
   "metadata": {},
   "outputs": [
    {
     "data": {
      "text/plain": [
       "array([ 0,  5, 10, 15, 20, 25, 30, 35, 40, 45])"
      ]
     },
     "execution_count": 6,
     "metadata": {},
     "output_type": "execute_result"
    }
   ],
   "source": [
    "a"
   ]
  },
  {
   "cell_type": "code",
   "execution_count": 8,
   "metadata": {},
   "outputs": [
    {
     "data": {
      "text/plain": [
       "array([ 1,  6, 11, 16, 21, 26, 31, 36, 41, 46])"
      ]
     },
     "execution_count": 8,
     "metadata": {},
     "output_type": "execute_result"
    }
   ],
   "source": [
    "a + 1"
   ]
  },
  {
   "cell_type": "code",
   "execution_count": null,
   "metadata": {
    "collapsed": true
   },
   "outputs": [],
   "source": [
    "#a * 10"
   ]
  },
  {
   "cell_type": "code",
   "execution_count": null,
   "metadata": {
    "collapsed": true
   },
   "outputs": [],
   "source": [
    "#When we add 1 to our array, Python actually adds 1 to every element, returning a new NumPy array. \n",
    "#OR Multiply"
   ]
  },
  {
   "cell_type": "code",
   "execution_count": null,
   "metadata": {
    "collapsed": true
   },
   "outputs": [],
   "source": [
    "#What happens when we apply a test to our NumPy array? \n",
    "#a == 20"
   ]
  },
  {
   "cell_type": "code",
   "execution_count": null,
   "metadata": {
    "collapsed": true
   },
   "outputs": [],
   "source": [
    "#a < 20"
   ]
  },
  {
   "cell_type": "code",
   "execution_count": null,
   "metadata": {
    "collapsed": true
   },
   "outputs": [],
   "source": [
    "#a >= 20"
   ]
  },
  {
   "cell_type": "code",
   "execution_count": null,
   "metadata": {
    "collapsed": true
   },
   "outputs": [],
   "source": [
    "#Assign it to a variable:\n",
    "#i = a>=20\n",
    "#i"
   ]
  },
  {
   "cell_type": "code",
   "execution_count": null,
   "metadata": {
    "collapsed": true
   },
   "outputs": [],
   "source": [
    "#What if we apply i (our array of boolean values) to our NumPy array?\n",
    "#a[i]"
   ]
  },
  {
   "cell_type": "code",
   "execution_count": null,
   "metadata": {
    "collapsed": true
   },
   "outputs": [],
   "source": [
    "#We have now selected all of those values of a that are >= 20.\n",
    "#No reason to define a new variable.  We can do it all in a single line:\n",
    "#a[a>=20]"
   ]
  },
  {
   "cell_type": "code",
   "execution_count": null,
   "metadata": {
    "collapsed": true
   },
   "outputs": [],
   "source": [
    "#Let's look at it again:\n",
    "\n",
    "#Vectorized comparison on \"a\", looking for elements >= 20\n",
    "#Returns an array of boolean values, of the same length as \"a\"\n",
    "#Apply this boolean array as an index to \"a\"\n",
    "#We get back a new NumPy array, whose values are those of \"a\" with values >= 20"
   ]
  },
  {
   "cell_type": "code",
   "execution_count": null,
   "metadata": {
    "collapsed": true
   },
   "outputs": [],
   "source": [
    "#Let's find all of the odd elements of \"a\".\n",
    "#a%2"
   ]
  },
  {
   "cell_type": "code",
   "execution_count": null,
   "metadata": {
    "collapsed": true
   },
   "outputs": [],
   "source": [
    "#let's use that result as an index\n",
    "#a[a%2]"
   ]
  },
  {
   "cell_type": "code",
   "execution_count": null,
   "metadata": {
    "collapsed": true
   },
   "outputs": [],
   "source": [
    "#not boolean values but integers\n",
    "\n",
    "#the fix\n",
    "#a%2 == 1"
   ]
  },
  {
   "cell_type": "code",
   "execution_count": null,
   "metadata": {
    "collapsed": true
   },
   "outputs": [],
   "source": [
    "#odd\n",
    "#a[a%2 == 1]"
   ]
  },
  {
   "cell_type": "code",
   "execution_count": null,
   "metadata": {
    "collapsed": true
   },
   "outputs": [],
   "source": [
    "#if we want even:\n",
    "#a[a%2 == 0]"
   ]
  },
  {
   "cell_type": "code",
   "execution_count": 9,
   "metadata": {
    "collapsed": true
   },
   "outputs": [],
   "source": [
    "#now lets combine some of these tests\n",
    "# first some random numbers\n",
    "a = np.random.randint(0, 100, 10)"
   ]
  },
  {
   "cell_type": "code",
   "execution_count": null,
   "metadata": {
    "collapsed": true
   },
   "outputs": [],
   "source": [
    "#less than 50\n",
    "#b = a[a<50]"
   ]
  },
  {
   "cell_type": "code",
   "execution_count": null,
   "metadata": {
    "collapsed": true
   },
   "outputs": [],
   "source": [
    "#only the odd ones\n",
    "#b[b%2 == 1]"
   ]
  },
  {
   "cell_type": "code",
   "execution_count": null,
   "metadata": {
    "collapsed": true
   },
   "outputs": [],
   "source": [
    "#Makes sense to use a boolean condition here. \n",
    "#a[a<50 and a%2 == 1]"
   ]
  },
  {
   "cell_type": "code",
   "execution_count": null,
   "metadata": {
    "collapsed": true
   },
   "outputs": [],
   "source": [
    "#oops\n",
    "\n",
    "#There are two different problems here. \n",
    "#and\n",
    "#a<50 and a%2 == 1\n",
    "\n",
    "#Are both of these expressions true?\n",
    "#Test of truth? It won't even try."
   ]
  },
  {
   "cell_type": "code",
   "execution_count": null,
   "metadata": {
    "collapsed": true
   },
   "outputs": [],
   "source": [
    "#We'll use Python's bitwise operators\n",
    "#a<50 & a%2 == 1\n",
    " "
   ]
  },
  {
   "cell_type": "code",
   "execution_count": 13,
   "metadata": {},
   "outputs": [
    {
     "data": {
      "text/plain": [
       "array([ True, False, False, False, False, False, False, False, False,  True], dtype=bool)"
      ]
     },
     "execution_count": 13,
     "metadata": {},
     "output_type": "execute_result"
    }
   ],
   "source": [
    "#Precedence of the operators\n",
    "(a<50) & (a%2 == 1)"
   ]
  },
  {
   "cell_type": "code",
   "execution_count": 11,
   "metadata": {},
   "outputs": [
    {
     "data": {
      "text/plain": [
       "array([39, 32, 59, 34, 46, 76, 66, 80, 66, 19])"
      ]
     },
     "execution_count": 11,
     "metadata": {},
     "output_type": "execute_result"
    }
   ],
   "source": [
    "a"
   ]
  },
  {
   "cell_type": "code",
   "execution_count": 14,
   "metadata": {},
   "outputs": [
    {
     "data": {
      "text/plain": [
       "array([39, 19])"
      ]
     },
     "execution_count": 14,
     "metadata": {},
     "output_type": "execute_result"
    }
   ],
   "source": [
    "#Finally!\n",
    "a[(a<50) & (a%2 == 1)]"
   ]
  },
  {
   "cell_type": "code",
   "execution_count": null,
   "metadata": {
    "collapsed": true
   },
   "outputs": [],
   "source": [
    "#Less than 20, and  greater than 80?\n",
    "#a[(a<20) | (a>80)]"
   ]
  },
  {
   "cell_type": "code",
   "execution_count": null,
   "metadata": {
    "collapsed": true
   },
   "outputs": [],
   "source": [
    "#The ~ (not) operator\n",
    "#a[a>50]\n",
    "\n",
    "#a[~(a>50)]"
   ]
  },
  {
   "cell_type": "code",
   "execution_count": null,
   "metadata": {
    "collapsed": true
   },
   "outputs": [],
   "source": [
    "#Complex?? All odd numbers that are less than 20 or greater than 80:\n",
    "#((a<20) | (a>80)) & (a%2 == 0)\n",
    "\n",
    "#a[((a<20) | (a>80)) & (a%2 == 0)]\n",
    "\n",
    "#Notice parentheses to force the grouping."
   ]
  },
  {
   "cell_type": "code",
   "execution_count": 8,
   "metadata": {},
   "outputs": [
    {
     "data": {
      "text/plain": [
       "array([50,  6, 68, 65, 83, 19, 49, 96, 75, 80])"
      ]
     },
     "execution_count": 8,
     "metadata": {},
     "output_type": "execute_result"
    }
   ],
   "source": [
    "###########Assignment #############\n",
    "a = np.random.randint(0, 100, 10)\n",
    "\n",
    "a"
   ]
  },
  {
   "cell_type": "code",
   "execution_count": null,
   "metadata": {
    "collapsed": true
   },
   "outputs": [],
   "source": [
    "#odd and less than 50:\n",
    "#(a<50) & (a%2 == 1)\n",
    "\n",
    "#a[(a<50) & (a%2 == 1)]"
   ]
  },
  {
   "cell_type": "code",
   "execution_count": null,
   "metadata": {
    "collapsed": true
   },
   "outputs": [],
   "source": [
    "3More interesting is that you can use a boolean index to assign back to your NumPy array.\n",
    "\n",
    "#a[(a<50) & (a%2 == 1)] = 999\n",
    "\n",
    "#a"
   ]
  },
  {
   "cell_type": "code",
   "execution_count": 14,
   "metadata": {
    "collapsed": true
   },
   "outputs": [],
   "source": [
    "#The two elements of \"a\" that were both less than 50 and odd were replaced with the value 999.\n",
    "\n",
    "#####\n",
    "#Lets look for numbers than one standard deviation away from the mean:\n",
    "#a = np.random.randint(0, 100, 10)\n",
    "\n",
    "#a"
   ]
  },
  {
   "cell_type": "code",
   "execution_count": 15,
   "metadata": {
    "collapsed": true
   },
   "outputs": [],
   "source": [
    "#(a > a.mean() + a.std())"
   ]
  },
  {
   "cell_type": "code",
   "execution_count": null,
   "metadata": {
    "collapsed": true
   },
   "outputs": [],
   "source": [
    "#(a > a.mean() + a.std()) | (a < a.mean() - a.std())"
   ]
  },
  {
   "cell_type": "code",
   "execution_count": null,
   "metadata": {
    "collapsed": true
   },
   "outputs": [],
   "source": [
    "#a[(a > a.mean() + a.std()) | (a < a.mean() - a.std())]"
   ]
  },
  {
   "cell_type": "code",
   "execution_count": null,
   "metadata": {
    "collapsed": true
   },
   "outputs": [],
   "source": [
    "#Replace the elements that are more than a.mean() + a.std() with that value, \n",
    "#The same with less than a.mean() - a.std().\n",
    "\n",
    "#a[(a > a.mean() + a.std()) | (a < a.mean() - a.std())]"
   ]
  },
  {
   "cell_type": "code",
   "execution_count": null,
   "metadata": {
    "collapsed": true
   },
   "outputs": [],
   "source": [
    "#m = a.mean()"
   ]
  },
  {
   "cell_type": "code",
   "execution_count": null,
   "metadata": {
    "collapsed": true
   },
   "outputs": [],
   "source": [
    "#std = a.std()"
   ]
  },
  {
   "cell_type": "code",
   "execution_count": null,
   "metadata": {
    "collapsed": true
   },
   "outputs": [],
   "source": [
    "#a < m-std"
   ]
  },
  {
   "cell_type": "code",
   "execution_count": null,
   "metadata": {
    "collapsed": true
   },
   "outputs": [],
   "source": [
    "#assignment\n",
    "#a[a < m-std] = m-std"
   ]
  },
  {
   "cell_type": "code",
   "execution_count": null,
   "metadata": {
    "collapsed": true
   },
   "outputs": [],
   "source": [
    "#a[a > m+std] = m+std"
   ]
  },
  {
   "cell_type": "code",
   "execution_count": null,
   "metadata": {
    "collapsed": true
   },
   "outputs": [],
   "source": [
    "#a"
   ]
  },
  {
   "cell_type": "code",
   "execution_count": null,
   "metadata": {
    "collapsed": true
   },
   "outputs": [],
   "source": [
    "#We have removed (or flattened) the outliers."
   ]
  },
  {
   "cell_type": "code",
   "execution_count": null,
   "metadata": {
    "collapsed": true
   },
   "outputs": [],
   "source": [
    "#Coersion\n",
    "#a = np.random.randint(0, 100, 10)\n",
    "\n",
    "#a"
   ]
  },
  {
   "cell_type": "code",
   "execution_count": null,
   "metadata": {
    "collapsed": true
   },
   "outputs": [],
   "source": [
    "#a[a<50] = 123.456\n",
    "\n",
    "#a"
   ]
  },
  {
   "cell_type": "code",
   "execution_count": null,
   "metadata": {
    "collapsed": true
   },
   "outputs": [],
   "source": [
    "#integers all the way down baby."
   ]
  },
  {
   "cell_type": "code",
   "execution_count": 15,
   "metadata": {
    "collapsed": true
   },
   "outputs": [],
   "source": [
    "import matplotlib.pyplot as plt"
   ]
  },
  {
   "cell_type": "code",
   "execution_count": 17,
   "metadata": {},
   "outputs": [],
   "source": [
    "x = plt.imread(\"../../TDS_Image_Proj/Images/thefan2.jpg\")"
   ]
  },
  {
   "cell_type": "code",
   "execution_count": 20,
   "metadata": {},
   "outputs": [
    {
     "data": {
      "text/plain": [
       "(480, 480, 3)"
      ]
     },
     "execution_count": 20,
     "metadata": {},
     "output_type": "execute_result"
    }
   ],
   "source": [
    "x.shape"
   ]
  },
  {
   "cell_type": "code",
   "execution_count": 21,
   "metadata": {},
   "outputs": [
    {
     "data": {
      "text/plain": [
       "array([[[106, 116, 118],\n",
       "        [105, 115, 117],\n",
       "        [106, 116, 118],\n",
       "        ..., \n",
       "        [105, 119, 120],\n",
       "        [109, 120, 122],\n",
       "        [110, 120, 121]],\n",
       "\n",
       "       [[105, 115, 117],\n",
       "        [104, 114, 116],\n",
       "        [106, 116, 118],\n",
       "        ..., \n",
       "        [105, 119, 120],\n",
       "        [106, 120, 121],\n",
       "        [110, 121, 123]],\n",
       "\n",
       "       [[106, 114, 117],\n",
       "        [107, 115, 118],\n",
       "        [107, 115, 118],\n",
       "        ..., \n",
       "        [107, 118, 120],\n",
       "        [105, 119, 120],\n",
       "        [104, 120, 120]],\n",
       "\n",
       "       ..., \n",
       "       [[ 97,  96,  94],\n",
       "        [ 99,  98,  96],\n",
       "        [ 98,  98,  96],\n",
       "        ..., \n",
       "        [ 88,  92,  91],\n",
       "        [ 89,  93,  92],\n",
       "        [ 89,  93,  92]],\n",
       "\n",
       "       [[ 98,  98,  96],\n",
       "        [ 97,  97,  95],\n",
       "        [ 99,  98,  96],\n",
       "        ..., \n",
       "        [ 87,  91,  90],\n",
       "        [ 87,  91,  90],\n",
       "        [ 89,  93,  94]],\n",
       "\n",
       "       [[ 95,  97,  94],\n",
       "        [ 98,  98,  96],\n",
       "        [ 98,  97,  95],\n",
       "        ..., \n",
       "        [ 85,  89,  88],\n",
       "        [ 83,  87,  88],\n",
       "        [ 87,  88,  92]]], dtype=uint8)"
      ]
     },
     "execution_count": 21,
     "metadata": {},
     "output_type": "execute_result"
    }
   ],
   "source": [
    "x"
   ]
  },
  {
   "cell_type": "code",
   "execution_count": null,
   "metadata": {
    "collapsed": true
   },
   "outputs": [],
   "source": []
  }
 ],
 "metadata": {
  "kernelspec": {
   "display_name": "Python 3",
   "language": "python",
   "name": "python3"
  },
  "language_info": {
   "codemirror_mode": {
    "name": "ipython",
    "version": 3
   },
   "file_extension": ".py",
   "mimetype": "text/x-python",
   "name": "python",
   "nbconvert_exporter": "python",
   "pygments_lexer": "ipython3",
   "version": "3.6.1"
  }
 },
 "nbformat": 4,
 "nbformat_minor": 2
}
