{
 "cells": [
  {
   "cell_type": "markdown",
   "metadata": {
    "raw_mimetype": "text/html"
   },
   "source": [
    "# Keras First Network\n",
    "Source: https://machinelearningmastery.com/tutorial-first-neural-network-python-keras/"
   ]
  },
  {
   "cell_type": "markdown",
   "metadata": {},
   "source": [
    "## Step 1: Initialize, and load data"
   ]
  },
  {
   "cell_type": "code",
   "execution_count": 1,
   "metadata": {},
   "outputs": [
    {
     "name": "stderr",
     "output_type": "stream",
     "text": [
      "/anaconda3/envs/TDS/lib/python3.5/site-packages/h5py/__init__.py:36: FutureWarning: Conversion of the second argument of issubdtype from `float` to `np.floating` is deprecated. In future, it will be treated as `np.float64 == np.dtype(float).type`.\n",
      "  from ._conv import register_converters as _register_converters\n",
      "Using TensorFlow backend.\n",
      "/anaconda3/envs/TDS/lib/python3.5/importlib/_bootstrap.py:222: RuntimeWarning: compiletime version 3.6 of module 'tensorflow.python.framework.fast_tensor_util' does not match runtime version 3.5\n",
      "  return f(*args, **kwds)\n"
     ]
    }
   ],
   "source": [
    "from keras.models import Sequential\n",
    "from keras.layers import Dense\n",
    "import numpy\n",
    "# fix random seed for reproducibility\n",
    "numpy.random.seed(7)"
   ]
  },
  {
   "cell_type": "markdown",
   "metadata": {},
   "source": [
    "### Load the dataset!"
   ]
  },
  {
   "cell_type": "code",
   "execution_count": 2,
   "metadata": {},
   "outputs": [],
   "source": [
    "# load pima indians dataset\n",
    "dataset = numpy.loadtxt(\"pima-indians-diabetes.csv\", delimiter=\",\")\n",
    "# split into input (X) and output (Y) variables\n",
    "X = dataset[:,0:8]\n",
    "Y = dataset[:,8]"
   ]
  },
  {
   "cell_type": "markdown",
   "metadata": {},
   "source": [
    "## Step 2: Define Model"
   ]
  },
  {
   "cell_type": "code",
   "execution_count": 3,
   "metadata": {},
   "outputs": [],
   "source": [
    "# create model\n",
    "model = Sequential()\n",
    "model.add(Dense(12, input_dim=8, activation='relu'))\n",
    "model.add(Dense(8, activation='relu'))\n",
    "model.add(Dense(1, activation='sigmoid'))"
   ]
  },
  {
   "cell_type": "markdown",
   "metadata": {},
   "source": [
    "## Step 3: Compile Model"
   ]
  },
  {
   "cell_type": "code",
   "execution_count": 4,
   "metadata": {},
   "outputs": [],
   "source": [
    "# Compile model\n",
    "model.compile(loss='binary_crossentropy', optimizer='adam', metrics=['accuracy'])"
   ]
  },
  {
   "cell_type": "markdown",
   "metadata": {},
   "source": [
    "## Step 4: Fit Model"
   ]
  },
  {
   "cell_type": "code",
   "execution_count": 5,
   "metadata": {},
   "outputs": [
    {
     "name": "stdout",
     "output_type": "stream",
     "text": [
      "Epoch 1/150\n",
      "768/768 [==============================] - 1s 1ms/step - loss: 3.7106 - acc: 0.5977\n",
      "Epoch 2/150\n",
      "768/768 [==============================] - 0s 240us/step - loss: 0.9375 - acc: 0.5924\n",
      "Epoch 3/150\n",
      "768/768 [==============================] - 0s 233us/step - loss: 0.7478 - acc: 0.6445\n",
      "Epoch 4/150\n",
      "768/768 [==============================] - 0s 254us/step - loss: 0.7120 - acc: 0.6549\n",
      "Epoch 5/150\n",
      "768/768 [==============================] - 0s 264us/step - loss: 0.6839 - acc: 0.6667\n",
      "Epoch 6/150\n",
      "768/768 [==============================] - 0s 237us/step - loss: 0.6520 - acc: 0.6784\n",
      "Epoch 7/150\n",
      "768/768 [==============================] - 0s 231us/step - loss: 0.6503 - acc: 0.6810\n",
      "Epoch 8/150\n",
      "768/768 [==============================] - 0s 230us/step - loss: 0.6383 - acc: 0.6862\n",
      "Epoch 9/150\n",
      "768/768 [==============================] - 0s 253us/step - loss: 0.6248 - acc: 0.6953\n",
      "Epoch 10/150\n",
      "768/768 [==============================] - 0s 221us/step - loss: 0.6309 - acc: 0.6797\n",
      "Epoch 11/150\n",
      "768/768 [==============================] - 0s 232us/step - loss: 0.6501 - acc: 0.6706\n",
      "Epoch 12/150\n",
      "768/768 [==============================] - 0s 230us/step - loss: 0.6398 - acc: 0.6732\n",
      "Epoch 13/150\n",
      "768/768 [==============================] - 0s 243us/step - loss: 0.6257 - acc: 0.6745\n",
      "Epoch 14/150\n",
      "768/768 [==============================] - 0s 431us/step - loss: 0.6172 - acc: 0.7018\n",
      "Epoch 15/150\n",
      "768/768 [==============================] - 0s 564us/step - loss: 0.6018 - acc: 0.6979\n",
      "Epoch 16/150\n",
      "768/768 [==============================] - 0s 420us/step - loss: 0.5882 - acc: 0.7057\n",
      "Epoch 17/150\n",
      "768/768 [==============================] - 0s 379us/step - loss: 0.5837 - acc: 0.7005\n",
      "Epoch 18/150\n",
      "768/768 [==============================] - 0s 313us/step - loss: 0.5994 - acc: 0.6862\n",
      "Epoch 19/150\n",
      "768/768 [==============================] - 0s 305us/step - loss: 0.5793 - acc: 0.7109\n",
      "Epoch 20/150\n",
      "768/768 [==============================] - 0s 267us/step - loss: 0.5789 - acc: 0.7253\n",
      "Epoch 21/150\n",
      "768/768 [==============================] - 0s 290us/step - loss: 0.5685 - acc: 0.7148\n",
      "Epoch 22/150\n",
      "768/768 [==============================] - 0s 273us/step - loss: 0.5818 - acc: 0.7005\n",
      "Epoch 23/150\n",
      "768/768 [==============================] - 0s 274us/step - loss: 0.5737 - acc: 0.7135\n",
      "Epoch 24/150\n",
      "768/768 [==============================] - 0s 274us/step - loss: 0.5680 - acc: 0.7318\n",
      "Epoch 25/150\n",
      "768/768 [==============================] - 0s 339us/step - loss: 0.5574 - acc: 0.7409\n",
      "Epoch 26/150\n",
      "768/768 [==============================] - 0s 378us/step - loss: 0.5706 - acc: 0.7070\n",
      "Epoch 27/150\n",
      "768/768 [==============================] - 0s 346us/step - loss: 0.5554 - acc: 0.7240\n",
      "Epoch 28/150\n",
      "768/768 [==============================] - 0s 438us/step - loss: 0.5552 - acc: 0.7305\n",
      "Epoch 29/150\n",
      "768/768 [==============================] - 0s 344us/step - loss: 0.5728 - acc: 0.7161\n",
      "Epoch 30/150\n",
      "768/768 [==============================] - 0s 384us/step - loss: 0.5611 - acc: 0.7201\n",
      "Epoch 31/150\n",
      "768/768 [==============================] - 0s 404us/step - loss: 0.5688 - acc: 0.7161\n",
      "Epoch 32/150\n",
      "768/768 [==============================] - 0s 433us/step - loss: 0.5637 - acc: 0.7083\n",
      "Epoch 33/150\n",
      "768/768 [==============================] - 0s 406us/step - loss: 0.5517 - acc: 0.7240\n",
      "Epoch 34/150\n",
      "768/768 [==============================] - 0s 422us/step - loss: 0.5485 - acc: 0.7305\n",
      "Epoch 35/150\n",
      "768/768 [==============================] - 0s 394us/step - loss: 0.5499 - acc: 0.7174\n",
      "Epoch 36/150\n",
      "768/768 [==============================] - 0s 408us/step - loss: 0.5649 - acc: 0.7057\n",
      "Epoch 37/150\n",
      "768/768 [==============================] - 0s 328us/step - loss: 0.5339 - acc: 0.7383\n",
      "Epoch 38/150\n",
      "768/768 [==============================] - 0s 372us/step - loss: 0.5403 - acc: 0.7253\n",
      "Epoch 39/150\n",
      "768/768 [==============================] - 0s 436us/step - loss: 0.5466 - acc: 0.7227\n",
      "Epoch 40/150\n",
      "768/768 [==============================] - 0s 389us/step - loss: 0.5454 - acc: 0.7227\n",
      "Epoch 41/150\n",
      "768/768 [==============================] - 0s 392us/step - loss: 0.5440 - acc: 0.7331\n",
      "Epoch 42/150\n",
      "768/768 [==============================] - 0s 296us/step - loss: 0.5379 - acc: 0.7422\n",
      "Epoch 43/150\n",
      "768/768 [==============================] - 0s 274us/step - loss: 0.5307 - acc: 0.7513\n",
      "Epoch 44/150\n",
      "768/768 [==============================] - 0s 308us/step - loss: 0.5338 - acc: 0.7474\n",
      "Epoch 45/150\n",
      "768/768 [==============================] - 0s 308us/step - loss: 0.5319 - acc: 0.7500\n",
      "Epoch 46/150\n",
      "768/768 [==============================] - 0s 338us/step - loss: 0.5313 - acc: 0.7526\n",
      "Epoch 47/150\n",
      "768/768 [==============================] - 0s 248us/step - loss: 0.5319 - acc: 0.7422\n",
      "Epoch 48/150\n",
      "768/768 [==============================] - 0s 283us/step - loss: 0.5322 - acc: 0.7422\n",
      "Epoch 49/150\n",
      "768/768 [==============================] - 0s 304us/step - loss: 0.5333 - acc: 0.7539\n",
      "Epoch 50/150\n",
      "768/768 [==============================] - 0s 275us/step - loss: 0.5263 - acc: 0.7409\n",
      "Epoch 51/150\n",
      "768/768 [==============================] - 0s 288us/step - loss: 0.5264 - acc: 0.7487\n",
      "Epoch 52/150\n",
      "768/768 [==============================] - 0s 278us/step - loss: 0.5325 - acc: 0.7422\n",
      "Epoch 53/150\n",
      "768/768 [==============================] - 0s 260us/step - loss: 0.5387 - acc: 0.7487\n",
      "Epoch 54/150\n",
      "768/768 [==============================] - 0s 241us/step - loss: 0.5377 - acc: 0.7292\n",
      "Epoch 55/150\n",
      "768/768 [==============================] - 0s 255us/step - loss: 0.5217 - acc: 0.7513\n",
      "Epoch 56/150\n",
      "768/768 [==============================] - 0s 241us/step - loss: 0.5290 - acc: 0.7448\n",
      "Epoch 57/150\n",
      "768/768 [==============================] - 0s 291us/step - loss: 0.5316 - acc: 0.7370\n",
      "Epoch 58/150\n",
      "768/768 [==============================] - 0s 277us/step - loss: 0.5220 - acc: 0.7500\n",
      "Epoch 59/150\n",
      "768/768 [==============================] - 0s 303us/step - loss: 0.5130 - acc: 0.7604\n",
      "Epoch 60/150\n",
      "768/768 [==============================] - 0s 316us/step - loss: 0.5356 - acc: 0.7344\n",
      "Epoch 61/150\n",
      "768/768 [==============================] - 0s 384us/step - loss: 0.5273 - acc: 0.7357\n",
      "Epoch 62/150\n",
      "768/768 [==============================] - 0s 298us/step - loss: 0.5172 - acc: 0.7513\n",
      "Epoch 63/150\n",
      "768/768 [==============================] - 0s 294us/step - loss: 0.5434 - acc: 0.7331\n",
      "Epoch 64/150\n",
      "768/768 [==============================] - 0s 328us/step - loss: 0.5331 - acc: 0.7383\n",
      "Epoch 65/150\n",
      "768/768 [==============================] - 0s 230us/step - loss: 0.5212 - acc: 0.7448\n",
      "Epoch 66/150\n",
      "768/768 [==============================] - 0s 238us/step - loss: 0.5070 - acc: 0.7487\n",
      "Epoch 67/150\n",
      "768/768 [==============================] - 0s 317us/step - loss: 0.5165 - acc: 0.7357\n",
      "Epoch 68/150\n",
      "768/768 [==============================] - 0s 289us/step - loss: 0.5131 - acc: 0.7500\n",
      "Epoch 69/150\n",
      "768/768 [==============================] - 0s 385us/step - loss: 0.5132 - acc: 0.7487\n",
      "Epoch 70/150\n",
      "768/768 [==============================] - 0s 265us/step - loss: 0.5345 - acc: 0.7174\n",
      "Epoch 71/150\n",
      "768/768 [==============================] - 0s 244us/step - loss: 0.5200 - acc: 0.7435\n",
      "Epoch 72/150\n",
      "768/768 [==============================] - 0s 326us/step - loss: 0.5182 - acc: 0.7461\n",
      "Epoch 73/150\n",
      "768/768 [==============================] - 0s 265us/step - loss: 0.5167 - acc: 0.7448\n",
      "Epoch 74/150\n",
      "768/768 [==============================] - 0s 254us/step - loss: 0.5102 - acc: 0.7604\n",
      "Epoch 75/150\n",
      "768/768 [==============================] - 0s 235us/step - loss: 0.5131 - acc: 0.7539\n",
      "Epoch 76/150\n",
      "768/768 [==============================] - 0s 381us/step - loss: 0.5154 - acc: 0.7513\n",
      "Epoch 77/150\n",
      "768/768 [==============================] - 0s 240us/step - loss: 0.5165 - acc: 0.7552\n",
      "Epoch 78/150\n",
      "768/768 [==============================] - 0s 257us/step - loss: 0.5150 - acc: 0.7513\n",
      "Epoch 79/150\n",
      "768/768 [==============================] - 0s 257us/step - loss: 0.5155 - acc: 0.7318\n",
      "Epoch 80/150\n",
      "768/768 [==============================] - 0s 268us/step - loss: 0.5106 - acc: 0.7578\n",
      "Epoch 81/150\n",
      "768/768 [==============================] - 0s 273us/step - loss: 0.5072 - acc: 0.7682\n",
      "Epoch 82/150\n",
      "768/768 [==============================] - 0s 243us/step - loss: 0.5040 - acc: 0.7487\n",
      "Epoch 83/150\n"
     ]
    },
    {
     "name": "stdout",
     "output_type": "stream",
     "text": [
      "768/768 [==============================] - 0s 262us/step - loss: 0.5003 - acc: 0.7578\n",
      "Epoch 84/150\n",
      "768/768 [==============================] - 0s 229us/step - loss: 0.4980 - acc: 0.7578\n",
      "Epoch 85/150\n",
      "768/768 [==============================] - 0s 310us/step - loss: 0.5074 - acc: 0.7461\n",
      "Epoch 86/150\n",
      "768/768 [==============================] - 0s 247us/step - loss: 0.5074 - acc: 0.7461\n",
      "Epoch 87/150\n",
      "768/768 [==============================] - 0s 242us/step - loss: 0.5006 - acc: 0.7578\n",
      "Epoch 88/150\n",
      "768/768 [==============================] - 0s 255us/step - loss: 0.5029 - acc: 0.7669\n",
      "Epoch 89/150\n",
      "768/768 [==============================] - 0s 259us/step - loss: 0.5074 - acc: 0.7578\n",
      "Epoch 90/150\n",
      "768/768 [==============================] - 0s 323us/step - loss: 0.5101 - acc: 0.7500\n",
      "Epoch 91/150\n",
      "768/768 [==============================] - 0s 351us/step - loss: 0.5034 - acc: 0.7474\n",
      "Epoch 92/150\n",
      "768/768 [==============================] - 0s 301us/step - loss: 0.5115 - acc: 0.7409\n",
      "Epoch 93/150\n",
      "768/768 [==============================] - 0s 308us/step - loss: 0.5019 - acc: 0.7604\n",
      "Epoch 94/150\n",
      "768/768 [==============================] - 0s 306us/step - loss: 0.4994 - acc: 0.7617\n",
      "Epoch 95/150\n",
      "768/768 [==============================] - 0s 261us/step - loss: 0.5091 - acc: 0.7448\n",
      "Epoch 96/150\n",
      "768/768 [==============================] - 0s 305us/step - loss: 0.4923 - acc: 0.7604\n",
      "Epoch 97/150\n",
      "768/768 [==============================] - 0s 300us/step - loss: 0.4984 - acc: 0.7773\n",
      "Epoch 98/150\n",
      "768/768 [==============================] - 0s 256us/step - loss: 0.4917 - acc: 0.7552\n",
      "Epoch 99/150\n",
      "768/768 [==============================] - 0s 256us/step - loss: 0.4915 - acc: 0.7578\n",
      "Epoch 100/150\n",
      "768/768 [==============================] - 0s 240us/step - loss: 0.4865 - acc: 0.7773\n",
      "Epoch 101/150\n",
      "768/768 [==============================] - 0s 333us/step - loss: 0.4918 - acc: 0.7773\n",
      "Epoch 102/150\n",
      "768/768 [==============================] - 0s 299us/step - loss: 0.4984 - acc: 0.7526\n",
      "Epoch 103/150\n",
      "768/768 [==============================] - 0s 293us/step - loss: 0.5019 - acc: 0.7474\n",
      "Epoch 104/150\n",
      "768/768 [==============================] - 0s 254us/step - loss: 0.4947 - acc: 0.7773\n",
      "Epoch 105/150\n",
      "768/768 [==============================] - 0s 226us/step - loss: 0.5288 - acc: 0.7474\n",
      "Epoch 106/150\n",
      "768/768 [==============================] - 0s 297us/step - loss: 0.4976 - acc: 0.7682\n",
      "Epoch 107/150\n",
      "768/768 [==============================] - 0s 300us/step - loss: 0.4918 - acc: 0.7682\n",
      "Epoch 108/150\n",
      "768/768 [==============================] - 0s 312us/step - loss: 0.5056 - acc: 0.7513\n",
      "Epoch 109/150\n",
      "768/768 [==============================] - 0s 315us/step - loss: 0.4889 - acc: 0.7578\n",
      "Epoch 110/150\n",
      "768/768 [==============================] - 0s 244us/step - loss: 0.4895 - acc: 0.7617\n",
      "Epoch 111/150\n",
      "768/768 [==============================] - 0s 245us/step - loss: 0.4847 - acc: 0.7734\n",
      "Epoch 112/150\n",
      "768/768 [==============================] - 0s 229us/step - loss: 0.4942 - acc: 0.7669\n",
      "Epoch 113/150\n",
      "768/768 [==============================] - 0s 301us/step - loss: 0.5029 - acc: 0.7591\n",
      "Epoch 114/150\n",
      "768/768 [==============================] - 0s 254us/step - loss: 0.4910 - acc: 0.7604\n",
      "Epoch 115/150\n",
      "768/768 [==============================] - 0s 293us/step - loss: 0.4944 - acc: 0.7630\n",
      "Epoch 116/150\n",
      "768/768 [==============================] - 0s 285us/step - loss: 0.4920 - acc: 0.7734\n",
      "Epoch 117/150\n",
      "768/768 [==============================] - 0s 271us/step - loss: 0.4941 - acc: 0.7539\n",
      "Epoch 118/150\n",
      "768/768 [==============================] - 0s 296us/step - loss: 0.4899 - acc: 0.7760\n",
      "Epoch 119/150\n",
      "768/768 [==============================] - 0s 302us/step - loss: 0.4851 - acc: 0.7604\n",
      "Epoch 120/150\n",
      "768/768 [==============================] - 0s 284us/step - loss: 0.4963 - acc: 0.7695\n",
      "Epoch 121/150\n",
      "768/768 [==============================] - 0s 273us/step - loss: 0.4944 - acc: 0.7734\n",
      "Epoch 122/150\n",
      "768/768 [==============================] - 0s 315us/step - loss: 0.4839 - acc: 0.7695\n",
      "Epoch 123/150\n",
      "768/768 [==============================] - 0s 313us/step - loss: 0.4881 - acc: 0.7604\n",
      "Epoch 124/150\n",
      "768/768 [==============================] - 0s 287us/step - loss: 0.4846 - acc: 0.7826\n",
      "Epoch 125/150\n",
      "768/768 [==============================] - 0s 273us/step - loss: 0.4849 - acc: 0.7812\n",
      "Epoch 126/150\n",
      "768/768 [==============================] - 0s 259us/step - loss: 0.4821 - acc: 0.7656\n",
      "Epoch 127/150\n",
      "768/768 [==============================] - 0s 237us/step - loss: 0.4904 - acc: 0.7591\n",
      "Epoch 128/150\n",
      "768/768 [==============================] - 0s 289us/step - loss: 0.4725 - acc: 0.7734\n",
      "Epoch 129/150\n",
      "768/768 [==============================] - 0s 304us/step - loss: 0.4836 - acc: 0.7682\n",
      "Epoch 130/150\n",
      "768/768 [==============================] - 0s 272us/step - loss: 0.4726 - acc: 0.7865\n",
      "Epoch 131/150\n",
      "768/768 [==============================] - 0s 257us/step - loss: 0.4834 - acc: 0.7617\n",
      "Epoch 132/150\n",
      "768/768 [==============================] - 0s 299us/step - loss: 0.4812 - acc: 0.7812\n",
      "Epoch 133/150\n",
      "768/768 [==============================] - 0s 260us/step - loss: 0.4858 - acc: 0.7669\n",
      "Epoch 134/150\n",
      "768/768 [==============================] - 0s 256us/step - loss: 0.4868 - acc: 0.7734\n",
      "Epoch 135/150\n",
      "768/768 [==============================] - 0s 286us/step - loss: 0.4774 - acc: 0.7630\n",
      "Epoch 136/150\n",
      "768/768 [==============================] - 0s 238us/step - loss: 0.4750 - acc: 0.7669\n",
      "Epoch 137/150\n",
      "768/768 [==============================] - 0s 263us/step - loss: 0.4705 - acc: 0.7839\n",
      "Epoch 138/150\n",
      "768/768 [==============================] - 0s 296us/step - loss: 0.4807 - acc: 0.7799\n",
      "Epoch 139/150\n",
      "768/768 [==============================] - 0s 267us/step - loss: 0.4696 - acc: 0.7786\n",
      "Epoch 140/150\n",
      "768/768 [==============================] - 0s 282us/step - loss: 0.4821 - acc: 0.7786\n",
      "Epoch 141/150\n",
      "768/768 [==============================] - 0s 262us/step - loss: 0.4729 - acc: 0.7812\n",
      "Epoch 142/150\n",
      "768/768 [==============================] - 0s 240us/step - loss: 0.4840 - acc: 0.7656\n",
      "Epoch 143/150\n",
      "768/768 [==============================] - 0s 239us/step - loss: 0.4743 - acc: 0.7721\n",
      "Epoch 144/150\n",
      "768/768 [==============================] - 0s 238us/step - loss: 0.4750 - acc: 0.7734\n",
      "Epoch 145/150\n",
      "768/768 [==============================] - 0s 246us/step - loss: 0.4913 - acc: 0.7591\n",
      "Epoch 146/150\n",
      "768/768 [==============================] - 0s 256us/step - loss: 0.4940 - acc: 0.7682\n",
      "Epoch 147/150\n",
      "768/768 [==============================] - 0s 244us/step - loss: 0.4860 - acc: 0.7786\n",
      "Epoch 148/150\n",
      "768/768 [==============================] - 0s 229us/step - loss: 0.4730 - acc: 0.7773\n",
      "Epoch 149/150\n",
      "768/768 [==============================] - 0s 229us/step - loss: 0.4757 - acc: 0.7604\n",
      "Epoch 150/150\n",
      "768/768 [==============================] - 0s 240us/step - loss: 0.4807 - acc: 0.7773\n"
     ]
    },
    {
     "data": {
      "text/plain": [
       "<keras.callbacks.History at 0x1821f10e80>"
      ]
     },
     "execution_count": 5,
     "metadata": {},
     "output_type": "execute_result"
    }
   ],
   "source": [
    "# Fit the model\n",
    "model.fit(X, Y, epochs=150, batch_size=10)"
   ]
  },
  {
   "cell_type": "markdown",
   "metadata": {},
   "source": [
    "## Step 5: Evaluate Model"
   ]
  },
  {
   "cell_type": "code",
   "execution_count": 6,
   "metadata": {},
   "outputs": [
    {
     "name": "stdout",
     "output_type": "stream",
     "text": [
      "768/768 [==============================] - 0s 89us/step\n",
      "\n",
      "acc: 78.26%\n"
     ]
    }
   ],
   "source": [
    "# evaluate the model\n",
    "scores = model.evaluate(X, Y)\n",
    "print(\"\\n%s: %.2f%%\" % (model.metrics_names[1], scores[1]*100))"
   ]
  },
  {
   "cell_type": "markdown",
   "metadata": {},
   "source": [
    "# Display Deep Learning Model History"
   ]
  },
  {
   "cell_type": "markdown",
   "metadata": {},
   "source": [
    "Source: https://machinelearningmastery.com/display-deep-learning-model-training-history-in-keras/"
   ]
  },
  {
   "cell_type": "code",
   "execution_count": 7,
   "metadata": {},
   "outputs": [],
   "source": [
    "import matplotlib.pyplot as plt"
   ]
  },
  {
   "cell_type": "markdown",
   "metadata": {},
   "source": [
    "### Re-fit the model, this time: save the results!"
   ]
  },
  {
   "cell_type": "code",
   "execution_count": 8,
   "metadata": {},
   "outputs": [],
   "source": [
    "history = model.fit(X, Y, validation_split=0.33, epochs=150, batch_size=10, verbose=0)"
   ]
  },
  {
   "cell_type": "markdown",
   "metadata": {},
   "source": [
    "### List all data in history"
   ]
  },
  {
   "cell_type": "code",
   "execution_count": 9,
   "metadata": {},
   "outputs": [
    {
     "name": "stdout",
     "output_type": "stream",
     "text": [
      "dict_keys(['acc', 'val_loss', 'val_acc', 'loss'])\n"
     ]
    }
   ],
   "source": [
    "print(history.history.keys())"
   ]
  },
  {
   "cell_type": "code",
   "execution_count": 10,
   "metadata": {},
   "outputs": [
    {
     "data": {
      "image/png": "[encoded data removed]",
      "text/plain": [
       "<matplotlib.figure.Figure at 0x1822c30630>"
      ]
     },
     "metadata": {},
     "output_type": "display_data"
    }
   ],
   "source": [
    "# summarize history for accuracy\n",
    "plt.plot(history.history['acc'])\n",
    "plt.plot(history.history['val_acc'])\n",
    "plt.title('model accuracy')\n",
    "plt.ylabel('accuracy')\n",
    "plt.xlabel('epoch')\n",
    "plt.legend(['train', 'test'], loc='upper left')\n",
    "plt.show()"
   ]
  },
  {
   "cell_type": "code",
   "execution_count": 11,
   "metadata": {},
   "outputs": [
    {
     "data": {
      "image/png": "[encoded data removed]",
      "text/plain": [
       "<matplotlib.figure.Figure at 0x1822c7c1d0>"
      ]
     },
     "metadata": {},
     "output_type": "display_data"
    }
   ],
   "source": [
    "# summarize history for loss\n",
    "plt.plot(history.history['loss'])\n",
    "plt.plot(history.history['val_loss'])\n",
    "plt.title('model loss')\n",
    "plt.ylabel('loss')\n",
    "plt.xlabel('epoch')\n",
    "plt.legend(['train', 'test'], loc='upper left')\n",
    "plt.show()"
   ]
  },
  {
   "cell_type": "markdown",
   "metadata": {},
   "source": [
    "# Grid Search HyperParameters"
   ]
  },
  {
   "cell_type": "markdown",
   "metadata": {},
   "source": [
    "Source: https://machinelearningmastery.com/grid-search-hyperparameters-deep-learning-models-python-keras/"
   ]
  },
  {
   "cell_type": "markdown",
   "metadata": {},
   "source": [
    "### Import SciKit Learn and KerasClassifier"
   ]
  },
  {
   "cell_type": "code",
   "execution_count": 12,
   "metadata": {},
   "outputs": [],
   "source": [
    "from sklearn.model_selection import GridSearchCV\n",
    "from keras.wrappers.scikit_learn import KerasClassifier"
   ]
  },
  {
   "cell_type": "markdown",
   "metadata": {},
   "source": [
    "### Define the function to create the Model"
   ]
  },
  {
   "cell_type": "code",
   "execution_count": 13,
   "metadata": {},
   "outputs": [],
   "source": [
    "def create_model():\n",
    "\t# create model\n",
    "\tmodel = Sequential()\n",
    "\tmodel.add(Dense(12, input_dim=8, activation='relu'))\n",
    "\tmodel.add(Dense(1, activation='sigmoid'))\n",
    "\t# Compile model\n",
    "\tmodel.compile(loss='binary_crossentropy', optimizer='adam', metrics=['accuracy'])\n",
    "\treturn model"
   ]
  },
  {
   "cell_type": "markdown",
   "metadata": {},
   "source": [
    "### Define the Model, using the create_model() function"
   ]
  },
  {
   "cell_type": "code",
   "execution_count": 14,
   "metadata": {},
   "outputs": [],
   "source": [
    "model = KerasClassifier(build_fn=create_model, verbose=0)"
   ]
  },
  {
   "cell_type": "markdown",
   "metadata": {},
   "source": [
    "### Define the grid search parameters"
   ]
  },
  {
   "cell_type": "code",
   "execution_count": null,
   "metadata": {},
   "outputs": [],
   "source": [
    "batch_size = [10, 20, 40, 60, 80, 100]\n",
    "epochs = [10, 50, 100]\n",
    "param_grid = dict(batch_size=batch_size, epochs=epochs)\n",
    "grid = GridSearchCV(estimator=model, param_grid=param_grid, n_jobs=-1)\n",
    "grid_result = grid.fit(X, Y)"
   ]
  },
  {
   "cell_type": "markdown",
   "metadata": {},
   "source": [
    "### Summarize Results"
   ]
  },
  {
   "cell_type": "code",
   "execution_count": null,
   "metadata": {},
   "outputs": [],
   "source": [
    "print(\"Best: %f using %s\" % (grid_result.best_score_, grid_result.best_params_))\n",
    "means = grid_result.cv_results_['mean_test_score']\n",
    "stds = grid_result.cv_results_['std_test_score']\n",
    "params = grid_result.cv_results_['params']\n",
    "for mean, stdev, param in zip(means, stds, params):\n",
    "    print(\"%f (%f) with: %r\" % (mean, stdev, param))"
   ]
  }
 ],
 "metadata": {
  "celltoolbar": "Raw Cell Format",
  "kernelspec": {
   "display_name": "Python 3",
   "language": "python",
   "name": "python3"
  },
  "language_info": {
   "codemirror_mode": {
    "name": "ipython",
    "version": 3
   },
   "file_extension": ".py",
   "mimetype": "text/x-python",
   "name": "python",
   "nbconvert_exporter": "python",
   "pygments_lexer": "ipython3",
   "version": "3.5.4"
  }
 },
 "nbformat": 4,
 "nbformat_minor": 2
}
